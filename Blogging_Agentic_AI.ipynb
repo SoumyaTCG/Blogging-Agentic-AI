{
  "cells": [
    {
      "cell_type": "markdown",
      "metadata": {
        "id": "view-in-github",
        "colab_type": "text"
      },
      "source": [
        "<a href=\"https://colab.research.google.com/github/SoumyaTCG/Blogging-Agentic-AI/blob/main/Blogging_Agentic_AI.ipynb\" target=\"_parent\"><img src=\"https://colab.research.google.com/assets/colab-badge.svg\" alt=\"Open In Colab\"/></a>"
      ]
    },
    {
      "cell_type": "markdown",
      "metadata": {
        "id": "9Buz8Bu6egC9"
      },
      "source": [
        "### **Importing Required Modules**"
      ]
    },
    {
      "cell_type": "code",
      "execution_count": null,
      "metadata": {
        "colab": {
          "base_uri": "https://localhost:8080/"
        },
        "id": "O9ffeXnc-IaD",
        "outputId": "5cfefaad-bc78-472e-ffd1-0b968b2355d2"
      },
      "outputs": [
        {
          "output_type": "stream",
          "name": "stdout",
          "text": [
            "Requirement already satisfied: load_dotenv in /usr/local/lib/python3.11/dist-packages (0.1.0)\n",
            "Requirement already satisfied: python-dotenv in /usr/local/lib/python3.11/dist-packages (from load_dotenv) (1.0.1)\n"
          ]
        }
      ],
      "source": [
        "!pip install load_dotenv"
      ]
    },
    {
      "cell_type": "code",
      "execution_count": null,
      "metadata": {
        "colab": {
          "base_uri": "https://localhost:8080/"
        },
        "id": "XsCFeuwz-evK",
        "outputId": "392d7453-8ccb-4c57-be72-eeb5f56133b0"
      },
      "outputs": [
        {
          "output_type": "stream",
          "name": "stdout",
          "text": [
            "Requirement already satisfied: langchain_groq in /usr/local/lib/python3.11/dist-packages (0.2.4)\n",
            "Requirement already satisfied: groq<1,>=0.4.1 in /usr/local/lib/python3.11/dist-packages (from langchain_groq) (0.18.0)\n",
            "Requirement already satisfied: langchain-core<0.4.0,>=0.3.33 in /usr/local/lib/python3.11/dist-packages (from langchain_groq) (0.3.40)\n",
            "Requirement already satisfied: anyio<5,>=3.5.0 in /usr/local/lib/python3.11/dist-packages (from groq<1,>=0.4.1->langchain_groq) (3.7.1)\n",
            "Requirement already satisfied: distro<2,>=1.7.0 in /usr/local/lib/python3.11/dist-packages (from groq<1,>=0.4.1->langchain_groq) (1.9.0)\n",
            "Requirement already satisfied: httpx<1,>=0.23.0 in /usr/local/lib/python3.11/dist-packages (from groq<1,>=0.4.1->langchain_groq) (0.28.1)\n",
            "Requirement already satisfied: pydantic<3,>=1.9.0 in /usr/local/lib/python3.11/dist-packages (from groq<1,>=0.4.1->langchain_groq) (2.10.6)\n",
            "Requirement already satisfied: sniffio in /usr/local/lib/python3.11/dist-packages (from groq<1,>=0.4.1->langchain_groq) (1.3.1)\n",
            "Requirement already satisfied: typing-extensions<5,>=4.10 in /usr/local/lib/python3.11/dist-packages (from groq<1,>=0.4.1->langchain_groq) (4.12.2)\n",
            "Requirement already satisfied: langsmith<0.4,>=0.1.125 in /usr/local/lib/python3.11/dist-packages (from langchain-core<0.4.0,>=0.3.33->langchain_groq) (0.3.11)\n",
            "Requirement already satisfied: tenacity!=8.4.0,<10.0.0,>=8.1.0 in /usr/local/lib/python3.11/dist-packages (from langchain-core<0.4.0,>=0.3.33->langchain_groq) (9.0.0)\n",
            "Requirement already satisfied: jsonpatch<2.0,>=1.33 in /usr/local/lib/python3.11/dist-packages (from langchain-core<0.4.0,>=0.3.33->langchain_groq) (1.33)\n",
            "Requirement already satisfied: PyYAML>=5.3 in /usr/local/lib/python3.11/dist-packages (from langchain-core<0.4.0,>=0.3.33->langchain_groq) (6.0.2)\n",
            "Requirement already satisfied: packaging<25,>=23.2 in /usr/local/lib/python3.11/dist-packages (from langchain-core<0.4.0,>=0.3.33->langchain_groq) (24.2)\n",
            "Requirement already satisfied: idna>=2.8 in /usr/local/lib/python3.11/dist-packages (from anyio<5,>=3.5.0->groq<1,>=0.4.1->langchain_groq) (3.10)\n",
            "Requirement already satisfied: certifi in /usr/local/lib/python3.11/dist-packages (from httpx<1,>=0.23.0->groq<1,>=0.4.1->langchain_groq) (2025.1.31)\n",
            "Requirement already satisfied: httpcore==1.* in /usr/local/lib/python3.11/dist-packages (from httpx<1,>=0.23.0->groq<1,>=0.4.1->langchain_groq) (1.0.7)\n",
            "Requirement already satisfied: h11<0.15,>=0.13 in /usr/local/lib/python3.11/dist-packages (from httpcore==1.*->httpx<1,>=0.23.0->groq<1,>=0.4.1->langchain_groq) (0.14.0)\n",
            "Requirement already satisfied: jsonpointer>=1.9 in /usr/local/lib/python3.11/dist-packages (from jsonpatch<2.0,>=1.33->langchain-core<0.4.0,>=0.3.33->langchain_groq) (3.0.0)\n",
            "Requirement already satisfied: orjson<4.0.0,>=3.9.14 in /usr/local/lib/python3.11/dist-packages (from langsmith<0.4,>=0.1.125->langchain-core<0.4.0,>=0.3.33->langchain_groq) (3.10.15)\n",
            "Requirement already satisfied: requests<3,>=2 in /usr/local/lib/python3.11/dist-packages (from langsmith<0.4,>=0.1.125->langchain-core<0.4.0,>=0.3.33->langchain_groq) (2.32.3)\n",
            "Requirement already satisfied: requests-toolbelt<2.0.0,>=1.0.0 in /usr/local/lib/python3.11/dist-packages (from langsmith<0.4,>=0.1.125->langchain-core<0.4.0,>=0.3.33->langchain_groq) (1.0.0)\n",
            "Requirement already satisfied: zstandard<0.24.0,>=0.23.0 in /usr/local/lib/python3.11/dist-packages (from langsmith<0.4,>=0.1.125->langchain-core<0.4.0,>=0.3.33->langchain_groq) (0.23.0)\n",
            "Requirement already satisfied: annotated-types>=0.6.0 in /usr/local/lib/python3.11/dist-packages (from pydantic<3,>=1.9.0->groq<1,>=0.4.1->langchain_groq) (0.7.0)\n",
            "Requirement already satisfied: pydantic-core==2.27.2 in /usr/local/lib/python3.11/dist-packages (from pydantic<3,>=1.9.0->groq<1,>=0.4.1->langchain_groq) (2.27.2)\n",
            "Requirement already satisfied: charset-normalizer<4,>=2 in /usr/local/lib/python3.11/dist-packages (from requests<3,>=2->langsmith<0.4,>=0.1.125->langchain-core<0.4.0,>=0.3.33->langchain_groq) (3.4.1)\n",
            "Requirement already satisfied: urllib3<3,>=1.21.1 in /usr/local/lib/python3.11/dist-packages (from requests<3,>=2->langsmith<0.4,>=0.1.125->langchain-core<0.4.0,>=0.3.33->langchain_groq) (2.3.0)\n"
          ]
        }
      ],
      "source": [
        "!pip install langchain_groq"
      ]
    },
    {
      "cell_type": "code",
      "execution_count": null,
      "metadata": {
        "colab": {
          "base_uri": "https://localhost:8080/"
        },
        "id": "CvAEMWDV_WW_",
        "outputId": "f895a3a0-3a16-4f46-d701-daf2a62ed4cd"
      },
      "outputs": [
        {
          "output_type": "stream",
          "name": "stdout",
          "text": [
            "Requirement already satisfied: langgraph in /usr/local/lib/python3.11/dist-packages (0.3.2)\n",
            "Requirement already satisfied: langchain-core<0.4,>=0.1 in /usr/local/lib/python3.11/dist-packages (from langgraph) (0.3.40)\n",
            "Requirement already satisfied: langgraph-checkpoint<3.0.0,>=2.0.10 in /usr/local/lib/python3.11/dist-packages (from langgraph) (2.0.16)\n",
            "Requirement already satisfied: langgraph-prebuilt<0.2,>=0.1.1 in /usr/local/lib/python3.11/dist-packages (from langgraph) (0.1.1)\n",
            "Requirement already satisfied: langgraph-sdk<0.2.0,>=0.1.42 in /usr/local/lib/python3.11/dist-packages (from langgraph) (0.1.53)\n",
            "Requirement already satisfied: langsmith<0.4,>=0.1.125 in /usr/local/lib/python3.11/dist-packages (from langchain-core<0.4,>=0.1->langgraph) (0.3.11)\n",
            "Requirement already satisfied: tenacity!=8.4.0,<10.0.0,>=8.1.0 in /usr/local/lib/python3.11/dist-packages (from langchain-core<0.4,>=0.1->langgraph) (9.0.0)\n",
            "Requirement already satisfied: jsonpatch<2.0,>=1.33 in /usr/local/lib/python3.11/dist-packages (from langchain-core<0.4,>=0.1->langgraph) (1.33)\n",
            "Requirement already satisfied: PyYAML>=5.3 in /usr/local/lib/python3.11/dist-packages (from langchain-core<0.4,>=0.1->langgraph) (6.0.2)\n",
            "Requirement already satisfied: packaging<25,>=23.2 in /usr/local/lib/python3.11/dist-packages (from langchain-core<0.4,>=0.1->langgraph) (24.2)\n",
            "Requirement already satisfied: typing-extensions>=4.7 in /usr/local/lib/python3.11/dist-packages (from langchain-core<0.4,>=0.1->langgraph) (4.12.2)\n",
            "Requirement already satisfied: pydantic<3.0.0,>=2.5.2 in /usr/local/lib/python3.11/dist-packages (from langchain-core<0.4,>=0.1->langgraph) (2.10.6)\n",
            "Requirement already satisfied: msgpack<2.0.0,>=1.1.0 in /usr/local/lib/python3.11/dist-packages (from langgraph-checkpoint<3.0.0,>=2.0.10->langgraph) (1.1.0)\n",
            "Requirement already satisfied: httpx>=0.25.2 in /usr/local/lib/python3.11/dist-packages (from langgraph-sdk<0.2.0,>=0.1.42->langgraph) (0.28.1)\n",
            "Requirement already satisfied: orjson>=3.10.1 in /usr/local/lib/python3.11/dist-packages (from langgraph-sdk<0.2.0,>=0.1.42->langgraph) (3.10.15)\n",
            "Requirement already satisfied: anyio in /usr/local/lib/python3.11/dist-packages (from httpx>=0.25.2->langgraph-sdk<0.2.0,>=0.1.42->langgraph) (3.7.1)\n",
            "Requirement already satisfied: certifi in /usr/local/lib/python3.11/dist-packages (from httpx>=0.25.2->langgraph-sdk<0.2.0,>=0.1.42->langgraph) (2025.1.31)\n",
            "Requirement already satisfied: httpcore==1.* in /usr/local/lib/python3.11/dist-packages (from httpx>=0.25.2->langgraph-sdk<0.2.0,>=0.1.42->langgraph) (1.0.7)\n",
            "Requirement already satisfied: idna in /usr/local/lib/python3.11/dist-packages (from httpx>=0.25.2->langgraph-sdk<0.2.0,>=0.1.42->langgraph) (3.10)\n",
            "Requirement already satisfied: h11<0.15,>=0.13 in /usr/local/lib/python3.11/dist-packages (from httpcore==1.*->httpx>=0.25.2->langgraph-sdk<0.2.0,>=0.1.42->langgraph) (0.14.0)\n",
            "Requirement already satisfied: jsonpointer>=1.9 in /usr/local/lib/python3.11/dist-packages (from jsonpatch<2.0,>=1.33->langchain-core<0.4,>=0.1->langgraph) (3.0.0)\n",
            "Requirement already satisfied: requests<3,>=2 in /usr/local/lib/python3.11/dist-packages (from langsmith<0.4,>=0.1.125->langchain-core<0.4,>=0.1->langgraph) (2.32.3)\n",
            "Requirement already satisfied: requests-toolbelt<2.0.0,>=1.0.0 in /usr/local/lib/python3.11/dist-packages (from langsmith<0.4,>=0.1.125->langchain-core<0.4,>=0.1->langgraph) (1.0.0)\n",
            "Requirement already satisfied: zstandard<0.24.0,>=0.23.0 in /usr/local/lib/python3.11/dist-packages (from langsmith<0.4,>=0.1.125->langchain-core<0.4,>=0.1->langgraph) (0.23.0)\n",
            "Requirement already satisfied: annotated-types>=0.6.0 in /usr/local/lib/python3.11/dist-packages (from pydantic<3.0.0,>=2.5.2->langchain-core<0.4,>=0.1->langgraph) (0.7.0)\n",
            "Requirement already satisfied: pydantic-core==2.27.2 in /usr/local/lib/python3.11/dist-packages (from pydantic<3.0.0,>=2.5.2->langchain-core<0.4,>=0.1->langgraph) (2.27.2)\n",
            "Requirement already satisfied: charset-normalizer<4,>=2 in /usr/local/lib/python3.11/dist-packages (from requests<3,>=2->langsmith<0.4,>=0.1.125->langchain-core<0.4,>=0.1->langgraph) (3.4.1)\n",
            "Requirement already satisfied: urllib3<3,>=1.21.1 in /usr/local/lib/python3.11/dist-packages (from requests<3,>=2->langsmith<0.4,>=0.1.125->langchain-core<0.4,>=0.1->langgraph) (2.3.0)\n",
            "Requirement already satisfied: sniffio>=1.1 in /usr/local/lib/python3.11/dist-packages (from anyio->httpx>=0.25.2->langgraph-sdk<0.2.0,>=0.1.42->langgraph) (1.3.1)\n"
          ]
        }
      ],
      "source": [
        "!pip install langgraph"
      ]
    },
    {
      "cell_type": "code",
      "execution_count": null,
      "metadata": {
        "colab": {
          "base_uri": "https://localhost:8080/"
        },
        "id": "IDse6LqsjNF-",
        "outputId": "a970b5b3-cd51-466a-de1d-88077cd6e234"
      },
      "outputs": [
        {
          "output_type": "stream",
          "name": "stdout",
          "text": [
            "Requirement already satisfied: google-auth in /usr/local/lib/python3.11/dist-packages (2.27.0)\n",
            "Requirement already satisfied: google-auth-oauthlib in /usr/local/lib/python3.11/dist-packages (1.2.1)\n",
            "Requirement already satisfied: google-auth-httplib2 in /usr/local/lib/python3.11/dist-packages (0.2.0)\n",
            "Requirement already satisfied: google-api-python-client in /usr/local/lib/python3.11/dist-packages (2.160.0)\n",
            "Requirement already satisfied: cachetools<6.0,>=2.0.0 in /usr/local/lib/python3.11/dist-packages (from google-auth) (5.5.2)\n",
            "Requirement already satisfied: pyasn1-modules>=0.2.1 in /usr/local/lib/python3.11/dist-packages (from google-auth) (0.4.1)\n",
            "Requirement already satisfied: rsa<5,>=3.1.4 in /usr/local/lib/python3.11/dist-packages (from google-auth) (4.9)\n",
            "Requirement already satisfied: requests-oauthlib>=0.7.0 in /usr/local/lib/python3.11/dist-packages (from google-auth-oauthlib) (2.0.0)\n",
            "Requirement already satisfied: httplib2>=0.19.0 in /usr/local/lib/python3.11/dist-packages (from google-auth-httplib2) (0.22.0)\n",
            "Requirement already satisfied: google-api-core!=2.0.*,!=2.1.*,!=2.2.*,!=2.3.0,<3.0.0.dev0,>=1.31.5 in /usr/local/lib/python3.11/dist-packages (from google-api-python-client) (2.24.1)\n",
            "Requirement already satisfied: uritemplate<5,>=3.0.1 in /usr/local/lib/python3.11/dist-packages (from google-api-python-client) (4.1.1)\n",
            "Requirement already satisfied: googleapis-common-protos<2.0.dev0,>=1.56.2 in /usr/local/lib/python3.11/dist-packages (from google-api-core!=2.0.*,!=2.1.*,!=2.2.*,!=2.3.0,<3.0.0.dev0,>=1.31.5->google-api-python-client) (1.68.0)\n",
            "Requirement already satisfied: protobuf!=3.20.0,!=3.20.1,!=4.21.0,!=4.21.1,!=4.21.2,!=4.21.3,!=4.21.4,!=4.21.5,<6.0.0.dev0,>=3.19.5 in /usr/local/lib/python3.11/dist-packages (from google-api-core!=2.0.*,!=2.1.*,!=2.2.*,!=2.3.0,<3.0.0.dev0,>=1.31.5->google-api-python-client) (4.25.6)\n",
            "Requirement already satisfied: proto-plus<2.0.0dev,>=1.22.3 in /usr/local/lib/python3.11/dist-packages (from google-api-core!=2.0.*,!=2.1.*,!=2.2.*,!=2.3.0,<3.0.0.dev0,>=1.31.5->google-api-python-client) (1.26.0)\n",
            "Requirement already satisfied: requests<3.0.0.dev0,>=2.18.0 in /usr/local/lib/python3.11/dist-packages (from google-api-core!=2.0.*,!=2.1.*,!=2.2.*,!=2.3.0,<3.0.0.dev0,>=1.31.5->google-api-python-client) (2.32.3)\n",
            "Requirement already satisfied: pyparsing!=3.0.0,!=3.0.1,!=3.0.2,!=3.0.3,<4,>=2.4.2 in /usr/local/lib/python3.11/dist-packages (from httplib2>=0.19.0->google-auth-httplib2) (3.2.1)\n",
            "Requirement already satisfied: pyasn1<0.7.0,>=0.4.6 in /usr/local/lib/python3.11/dist-packages (from pyasn1-modules>=0.2.1->google-auth) (0.6.1)\n",
            "Requirement already satisfied: oauthlib>=3.0.0 in /usr/local/lib/python3.11/dist-packages (from requests-oauthlib>=0.7.0->google-auth-oauthlib) (3.2.2)\n",
            "Requirement already satisfied: charset-normalizer<4,>=2 in /usr/local/lib/python3.11/dist-packages (from requests<3.0.0.dev0,>=2.18.0->google-api-core!=2.0.*,!=2.1.*,!=2.2.*,!=2.3.0,<3.0.0.dev0,>=1.31.5->google-api-python-client) (3.4.1)\n",
            "Requirement already satisfied: idna<4,>=2.5 in /usr/local/lib/python3.11/dist-packages (from requests<3.0.0.dev0,>=2.18.0->google-api-core!=2.0.*,!=2.1.*,!=2.2.*,!=2.3.0,<3.0.0.dev0,>=1.31.5->google-api-python-client) (3.10)\n",
            "Requirement already satisfied: urllib3<3,>=1.21.1 in /usr/local/lib/python3.11/dist-packages (from requests<3.0.0.dev0,>=2.18.0->google-api-core!=2.0.*,!=2.1.*,!=2.2.*,!=2.3.0,<3.0.0.dev0,>=1.31.5->google-api-python-client) (2.3.0)\n",
            "Requirement already satisfied: certifi>=2017.4.17 in /usr/local/lib/python3.11/dist-packages (from requests<3.0.0.dev0,>=2.18.0->google-api-core!=2.0.*,!=2.1.*,!=2.2.*,!=2.3.0,<3.0.0.dev0,>=1.31.5->google-api-python-client) (2025.1.31)\n"
          ]
        }
      ],
      "source": [
        "!pip install google-auth google-auth-oauthlib google-auth-httplib2 google-api-python-client\n"
      ]
    },
    {
      "cell_type": "code",
      "source": [
        "!pip install social-post-api"
      ],
      "metadata": {
        "colab": {
          "base_uri": "https://localhost:8080/"
        },
        "id": "ipj3klcLVqkt",
        "outputId": "4d3e1d14-59d4-4a63-9843-ca2eb2df2d32"
      },
      "execution_count": null,
      "outputs": [
        {
          "output_type": "stream",
          "name": "stdout",
          "text": [
            "Requirement already satisfied: social-post-api in /usr/local/lib/python3.11/dist-packages (1.2.4)\n",
            "Requirement already satisfied: requests in /usr/local/lib/python3.11/dist-packages (from social-post-api) (2.32.3)\n",
            "Requirement already satisfied: charset-normalizer<4,>=2 in /usr/local/lib/python3.11/dist-packages (from requests->social-post-api) (3.4.1)\n",
            "Requirement already satisfied: idna<4,>=2.5 in /usr/local/lib/python3.11/dist-packages (from requests->social-post-api) (3.10)\n",
            "Requirement already satisfied: urllib3<3,>=1.21.1 in /usr/local/lib/python3.11/dist-packages (from requests->social-post-api) (2.3.0)\n",
            "Requirement already satisfied: certifi>=2017.4.17 in /usr/local/lib/python3.11/dist-packages (from requests->social-post-api) (2025.1.31)\n"
          ]
        }
      ]
    },
    {
      "cell_type": "code",
      "execution_count": null,
      "metadata": {
        "id": "uMQxU178gouA"
      },
      "outputs": [],
      "source": [
        "# Importing required modules\n",
        "import os  # For accessing environment variables\n",
        "from dotenv import load_dotenv  # To load environment variables from a .env file\n",
        "from google.colab import userdata\n",
        "\n",
        "# Load environment variables from .env file (if present)\n",
        "#load_dotenv()\n",
        "\n",
        "# Import ChatGroq from langchain_groq (used for interacting with Groq's LLM API)\n",
        "from langchain_groq import ChatGroq\n",
        "\n",
        "# Set API keys for authentication\n",
        "# os.environ[\"OPENAI_API_KEY\"] = os.getenv(\"OPENAI_API_KEY\")  # Uncomment if using OpenAI API\n",
        "os.environ[\"GROQ_API_KEY\"]= userdata.get('GROQ_API_KEY')\n",
        "\n",
        "# This ensures secure handling of API keys by storing them in environment variables\n",
        "# instead of hardcoding them directly in the script."
      ]
    },
    {
      "cell_type": "code",
      "execution_count": null,
      "metadata": {
        "id": "vBrMY6XWZQzI"
      },
      "outputs": [],
      "source": [
        "# Importing required modules\n",
        "# -----------------------------------------------\n",
        "# TypedDict: Used for static type checking only\n",
        "# - No runtime validation, only helps tools like mypy check for type correctness\n",
        "# - Python itself does NOT enforce these types at runtime\n",
        "# -----------------------------------------------\n",
        "\n",
        "# -----------------------------------------------\n",
        "# BaseModel (from Pydantic): Used for runtime validation\n",
        "# - Ensures data integrity by validating input values at runtime\n",
        "# - Converts types if possible (e.g., str to int), else raises an error\n",
        "# ----------------------------------------------------\n",
        "from langchain_core.messages import HumanMessage, SystemMessage\n",
        "from langgraph.graph import StateGraph, START, END  # For defining stateful blog_workflows\n",
        "from typing_extensions import TypedDict  # For defining static type-checked dictionaries\n",
        "from typing import Optional\n",
        "from pydantic import BaseModel,Field  # For runtime validation of data\n",
        "from IPython.display import Image, display\n",
        "from ayrshare import SocialPost"
      ]
    },
    {
      "cell_type": "markdown",
      "metadata": {
        "id": "xBlC1K8VgCiX"
      },
      "source": [
        "### **Prompt Chaining**\n",
        "Prompt chaining decomposes a task into a sequence of steps, where each LLM call processes the output of the previous one. You can add programmatic checks on any intermediate steps to ensure that the process is still on track.\n",
        "\n",
        "When to use this blog_workflow: This blog_workflow is ideal for situations where the task can be easily and cleanly decomposed into fixed subtasks. The main goal is to trade off latency for higher accuracy, by making each LLM call an easier task.\n",
        "\n",
        "\n"
      ]
    },
    {
      "cell_type": "code",
      "execution_count": null,
      "metadata": {
        "id": "vzftMOT4tYWP"
      },
      "outputs": [],
      "source": [
        "# Initialize LLM (Using an open-source model like Llama)\n",
        "llm=ChatGroq(model=\"llama-3.3-70b-versatile\")"
      ]
    },
    {
      "cell_type": "code",
      "execution_count": null,
      "metadata": {
        "id": "6dNgZdx8efAv"
      },
      "outputs": [],
      "source": [
        "# Define a single Pydantic model for all stages\n",
        "class BlogData(BaseModel):\n",
        "    topic: str\n",
        "    title: Optional[str] = None\n",
        "    outline: Optional[str] = None  # Optional because it gets populated step-by-step in the blog_workflow\n",
        "    draft: Optional[str] = None  # Starts as None and is filled after expansion\n",
        "    seo_optimized_draft: Optional[str] = None  # SEO optimization happens later\n",
        "    finalize_blog: Optional[str] = None  # Final blog is generated at the end\n",
        "    evaluation_score: Optional[float] = None  # Stores evaluation results\n"
      ]
    },
    {
      "cell_type": "code",
      "execution_count": null,
      "metadata": {
        "id": "OSiEgHzB2X3-"
      },
      "outputs": [],
      "source": [
        "#Define Structured Output Schema\n",
        "class BlogEvaluation(BaseModel):\n",
        "    score: int = Field(description=\"Score the draft between 1-10\")\n",
        "    feedback: str = Field(description=\"Provide feedback for improvements if score < 7\")"
      ]
    },
    {
      "cell_type": "code",
      "execution_count": null,
      "metadata": {
        "id": "lx1p8PFI2eas"
      },
      "outputs": [],
      "source": [
        "# Augment the LLM with schema for structured output\n",
        "blog_evaluator = llm.with_structured_output(BlogEvaluation)"
      ]
    },
    {
      "cell_type": "code",
      "execution_count": null,
      "metadata": {
        "id": "thETIHrSyqKQ"
      },
      "outputs": [],
      "source": [
        "def generate_title(data: BlogData) -> BlogData:\n",
        "    #Generates a compelling and SEO-friendly blog title.\n",
        "    print(\"--GENERATE TITLE--\")\n",
        "    prompt = f\"Generate a catchy and SEO-friendly title for a blog about: {data.topic}\"\n",
        "    response = llm([HumanMessage(content=prompt)])\n",
        "    print(response.content)\n",
        "    data.title = response.content\n",
        "    return data"
      ]
    },
    {
      "cell_type": "code",
      "execution_count": null,
      "metadata": {
        "id": "izT7n-HLvT0n"
      },
      "outputs": [],
      "source": [
        "def generate_outline(data: BlogData) -> BlogData:\n",
        "    #Generates a blog outline based on the topic.\n",
        "    print(\"--GENERATE OUTLINE--\")\n",
        "    prompt = f\"Generate a detailed blog outline on the topic: {data.title}\"\n",
        "    response = llm([HumanMessage(content=prompt)])\n",
        "    print(response.content)\n",
        "    data.outline = response.content\n",
        "    return data"
      ]
    },
    {
      "cell_type": "code",
      "execution_count": null,
      "metadata": {
        "id": "7J4AF_2ox_uL"
      },
      "outputs": [],
      "source": [
        "def expand_sections(data: BlogData) -> BlogData:\n",
        "    #Expands each section of the outline into a full draft.\n",
        "    print(\"--EXPAND SECTIONS--\")\n",
        "    sections = data.outline.split('\\\\n') if data.outline else []\n",
        "    expanded_content = \"\"\n",
        "\n",
        "    for section in sections:\n",
        "        prompt = f\"Write a detailed blog section for: {section}.Try to keep the words less than 200.\"\n",
        "        response = llm([HumanMessage(content=prompt)])\n",
        "        expanded_content += f\"\\\\n{section}\\\\n{response.content}\\\\n\"\n",
        "    print(expanded_content)\n",
        "\n",
        "    data.draft = expanded_content\n",
        "    return data"
      ]
    },
    {
      "cell_type": "code",
      "execution_count": null,
      "metadata": {
        "id": "SdDQqVlly66Q"
      },
      "outputs": [],
      "source": [
        "def optimize_for_seo(data: BlogData) -> BlogData:\n",
        "    #Enhances the blog with SEO optimization.\n",
        "    print(\"--OPTIMIZATION FOR SEO--\")\n",
        "\n",
        "\n",
        "    seo_prompt = f\"\"\"\n",
        "    Improve the SEO of the following blog post by incorporating relevant keywords,\n",
        "    better headings, and meta descriptions.\n",
        "\n",
        "    BLOG CONTENT:\n",
        "    {data.draft}\n",
        "\n",
        "    **Guidelines based on evaluation score:**\n",
        "    - Score **8.0-10.0**: Minor SEO tweaks only.\n",
        "    - Score **5.0-7.0**: Enhance structure, improve readability, and add more keywords.\n",
        "    - Score **<5.0**: Significant rewrite needed to improve clarity, depth, and keyword optimization.\n",
        "\n",
        "    Current Evaluation Score: {data.evaluation_score}\n",
        "    \"\"\"\n",
        "\n",
        "    print(f\"Current Evaluation Score: {data.evaluation_score}\")\n",
        "    optimized_draft = llm.invoke([HumanMessage(content=seo_prompt)]).content\n",
        "\n",
        "    print(optimized_draft)\n",
        "    data.seo_optimized_draft = optimized_draft\n",
        "    return data"
      ]
    },
    {
      "cell_type": "code",
      "execution_count": null,
      "metadata": {
        "id": "6_i6JUCozEuA"
      },
      "outputs": [],
      "source": [
        "def final_blog(data: BlogData) -> BlogData:\n",
        "    #Final grammar check and readability improvements.\n",
        "    print(\"--GENERATING FINAL CONTENT--\")\n",
        "    prompt = f\"Proof read and improve the readability of this blog:\\\\n{data.seo_optimized_draft}.Give only the final content without anything else.\"\n",
        "    response = llm([HumanMessage(content=prompt)])\n",
        "    print(response.content)\n",
        "    data.finalize_blog = response.content\n",
        "    return data"
      ]
    },
    {
      "cell_type": "code",
      "execution_count": null,
      "metadata": {
        "id": "93W81aUkzWIp"
      },
      "outputs": [],
      "source": [
        "import re\n",
        "\n",
        "def evaluate_blog(data: BlogData) -> float:\n",
        "    print(\"--EVALUATION IN PROGRESS--\")\n",
        "    \"\"\"Evaluates the blog’s emotional appeal using sentiment analysis.\"\"\"\n",
        "\n",
        "    prompt = f\"\"\"\n",
        "    Analyze the emotional tone of the following blog post.\n",
        "    Does it feel engaging, persuasive, and impactful?\n",
        "    Return a sentiment score in float from 1.0 (No sentiment) to 10.0 (Highly engaging).\n",
        "    Provide only the number, nothing else.\n",
        "\n",
        "    BLOG CONTENT:\n",
        "    {data.seo_optimized_draft}\n",
        "    \"\"\"\n",
        "\n",
        "    response = llm.invoke([HumanMessage(content=prompt)]).content\n",
        "\n",
        "    # Extract float number from response\n",
        "    match = re.search(r\"\\d+(\\.\\d+)?\", response)\n",
        "    if match:\n",
        "        sentiment_score = float(match.group())  # Convert matched number to float\n",
        "    else:\n",
        "        sentiment_score = 5.0  # Default neutral score if parsing fails\n",
        "    print(sentiment_score)\n",
        "    data.evaluation_score = sentiment_score\n",
        "    return data\n"
      ]
    },
    {
      "cell_type": "code",
      "source": [
        "def publish_blog_linkedin(data: BlogData):\n",
        "    print(\"--PUBLISHING TO LINKEDIN--\")\n",
        "    social = SocialPost('D862BB87-C7F04C16-94716B13-C96C72CB') # get an API Key at ayrshare.com\n",
        "    # Post to  LinkedIn\n",
        "    postResult = social.post({'post':data.finalize_blog.str,'platforms': [\"linkedin\"]})\n",
        "    print(postResult)\n"
      ],
      "metadata": {
        "id": "N2cK0CpBT0K_"
      },
      "execution_count": null,
      "outputs": []
    },
    {
      "cell_type": "code",
      "source": [
        "def publish_blog_reddit(data: BlogData):\n",
        "    print(\"--PUBLISHING TO REDDIT--\")\n",
        "    social = SocialPost('D862BB87-C7F04C16-94716B13-C96C72CB') # get an API Key at ayrshare.com\n",
        "    # Post to  Reddit\n",
        "    postResult = social.post({'post': 'data.finalize_blog','platforms': [\"reddit\"]})\n",
        "    print(postResult)\n"
      ],
      "metadata": {
        "id": "TH54ZJxedLjN"
      },
      "execution_count": null,
      "outputs": []
    },
    {
      "cell_type": "code",
      "execution_count": null,
      "metadata": {
        "id": "yTkrr9aT8zXi"
      },
      "outputs": [],
      "source": [
        "def route_based_on_evaluation(data: BlogData):\n",
        "    if data.evaluation_score < 8.0:\n",
        "        return \"Revise Blog\"\n",
        "    else:\n",
        "        return \"Final Blog\""
      ]
    },
    {
      "cell_type": "code",
      "execution_count": null,
      "metadata": {
        "id": "bD8mYmTrW_ON",
        "colab": {
          "base_uri": "https://localhost:8080/",
          "height": 287
        },
        "outputId": "1bef2145-7220-4313-afaa-9382e8c0ac44"
      },
      "outputs": [
        {
          "output_type": "error",
          "ename": "ValueError",
          "evalue": "Failed to render the graph using the Mermaid.INK API. Status code: 500.",
          "traceback": [
            "\u001b[0;31m---------------------------------------------------------------------------\u001b[0m",
            "\u001b[0;31mValueError\u001b[0m                                Traceback (most recent call last)",
            "\u001b[0;32m<ipython-input-83-96dbd1d10594>\u001b[0m in \u001b[0;36m<cell line: 0>\u001b[0;34m()\u001b[0m\n\u001b[1;32m     36\u001b[0m \u001b[0;34m\u001b[0m\u001b[0m\n\u001b[1;32m     37\u001b[0m \u001b[0;31m# Show blog_workflow\u001b[0m\u001b[0;34m\u001b[0m\u001b[0;34m\u001b[0m\u001b[0m\n\u001b[0;32m---> 38\u001b[0;31m \u001b[0mdisplay\u001b[0m\u001b[0;34m(\u001b[0m\u001b[0mImage\u001b[0m\u001b[0;34m(\u001b[0m\u001b[0mblog_generator\u001b[0m\u001b[0;34m.\u001b[0m\u001b[0mget_graph\u001b[0m\u001b[0;34m(\u001b[0m\u001b[0;34m)\u001b[0m\u001b[0;34m.\u001b[0m\u001b[0mdraw_mermaid_png\u001b[0m\u001b[0;34m(\u001b[0m\u001b[0;34m)\u001b[0m\u001b[0;34m)\u001b[0m\u001b[0;34m)\u001b[0m\u001b[0;34m\u001b[0m\u001b[0;34m\u001b[0m\u001b[0m\n\u001b[0m",
            "\u001b[0;32m/usr/local/lib/python3.11/dist-packages/langchain_core/runnables/graph.py\u001b[0m in \u001b[0;36mdraw_mermaid_png\u001b[0;34m(self, curve_style, node_colors, wrap_label_n_words, output_file_path, draw_method, background_color, padding)\u001b[0m\n\u001b[1;32m    628\u001b[0m             \u001b[0mwrap_label_n_words\u001b[0m\u001b[0;34m=\u001b[0m\u001b[0mwrap_label_n_words\u001b[0m\u001b[0;34m,\u001b[0m\u001b[0;34m\u001b[0m\u001b[0;34m\u001b[0m\u001b[0m\n\u001b[1;32m    629\u001b[0m         )\n\u001b[0;32m--> 630\u001b[0;31m         return draw_mermaid_png(\n\u001b[0m\u001b[1;32m    631\u001b[0m             \u001b[0mmermaid_syntax\u001b[0m\u001b[0;34m=\u001b[0m\u001b[0mmermaid_syntax\u001b[0m\u001b[0;34m,\u001b[0m\u001b[0;34m\u001b[0m\u001b[0;34m\u001b[0m\u001b[0m\n\u001b[1;32m    632\u001b[0m             \u001b[0moutput_file_path\u001b[0m\u001b[0;34m=\u001b[0m\u001b[0moutput_file_path\u001b[0m\u001b[0;34m,\u001b[0m\u001b[0;34m\u001b[0m\u001b[0;34m\u001b[0m\u001b[0m\n",
            "\u001b[0;32m/usr/local/lib/python3.11/dist-packages/langchain_core/runnables/graph_mermaid.py\u001b[0m in \u001b[0;36mdraw_mermaid_png\u001b[0;34m(mermaid_syntax, output_file_path, draw_method, background_color, padding)\u001b[0m\n\u001b[1;32m    212\u001b[0m         )\n\u001b[1;32m    213\u001b[0m     \u001b[0;32melif\u001b[0m \u001b[0mdraw_method\u001b[0m \u001b[0;34m==\u001b[0m \u001b[0mMermaidDrawMethod\u001b[0m\u001b[0;34m.\u001b[0m\u001b[0mAPI\u001b[0m\u001b[0;34m:\u001b[0m\u001b[0;34m\u001b[0m\u001b[0;34m\u001b[0m\u001b[0m\n\u001b[0;32m--> 214\u001b[0;31m         img_bytes = _render_mermaid_using_api(\n\u001b[0m\u001b[1;32m    215\u001b[0m             \u001b[0mmermaid_syntax\u001b[0m\u001b[0;34m,\u001b[0m \u001b[0moutput_file_path\u001b[0m\u001b[0;34m,\u001b[0m \u001b[0mbackground_color\u001b[0m\u001b[0;34m\u001b[0m\u001b[0;34m\u001b[0m\u001b[0m\n\u001b[1;32m    216\u001b[0m         )\n",
            "\u001b[0;32m/usr/local/lib/python3.11/dist-packages/langchain_core/runnables/graph_mermaid.py\u001b[0m in \u001b[0;36m_render_mermaid_using_api\u001b[0;34m(mermaid_syntax, output_file_path, background_color, file_type)\u001b[0m\n\u001b[1;32m    347\u001b[0m             \u001b[0;34mf\"Status code: {response.status_code}.\"\u001b[0m\u001b[0;34m\u001b[0m\u001b[0;34m\u001b[0m\u001b[0m\n\u001b[1;32m    348\u001b[0m         )\n\u001b[0;32m--> 349\u001b[0;31m         \u001b[0;32mraise\u001b[0m \u001b[0mValueError\u001b[0m\u001b[0;34m(\u001b[0m\u001b[0mmsg\u001b[0m\u001b[0;34m)\u001b[0m\u001b[0;34m\u001b[0m\u001b[0;34m\u001b[0m\u001b[0m\n\u001b[0m",
            "\u001b[0;31mValueError\u001b[0m: Failed to render the graph using the Mermaid.INK API. Status code: 500."
          ]
        }
      ],
      "source": [
        "# Build Graph\n",
        "blog_workflow = StateGraph(BlogData)\n",
        "blog_workflow.add_node(\"generate_title\", generate_title)\n",
        "blog_workflow.add_node(\"generate_outline\", generate_outline)\n",
        "blog_workflow.add_node(\"expand_sections\", expand_sections)\n",
        "blog_workflow.add_node(\"optimize_for_seo\", optimize_for_seo)\n",
        "blog_workflow.add_node(\"evaluate_seo_blog\", evaluate_blog)\n",
        "blog_workflow.add_node(\"final_blog\", final_blog)\n",
        "blog_workflow.add_node(\"publish_blog_linkedin\", publish_blog_linkedin)\n",
        "#blog_workflow.add_node(\"publish_blog_reddit\", publish_blog_reddit)\n",
        "\n",
        "# Add Edges\n",
        "blog_workflow.add_edge(START, \"generate_title\")\n",
        "blog_workflow.add_edge(\"generate_title\", \"generate_outline\")\n",
        "blog_workflow.add_edge(\"generate_outline\", \"expand_sections\")\n",
        "blog_workflow.add_edge(\"expand_sections\", \"evaluate_seo_blog\")\n",
        "\n",
        "\n",
        "\n",
        "blog_workflow.add_conditional_edges(\n",
        "    \"evaluate_seo_blog\",\n",
        "    route_based_on_evaluation,\n",
        "    {\n",
        "        \"Revise Blog\": \"optimize_for_seo\",  # Send back for content improvement\n",
        "        \"Final Blog\": \"final_blog\",  # Send back for final review\n",
        "    },\n",
        ")\n",
        "blog_workflow.add_edge(\"optimize_for_seo\", \"evaluate_seo_blog\")\n",
        "blog_workflow.add_edge(\"final_blog\", \"publish_blog_linkedin\")\n",
        "#blog_workflow.add_edge(\"final_blog\", \"publish_blog_reddit\")\n",
        "blog_workflow.add_edge(\"publish_blog_linkedin\", END)\n",
        "#blog_workflow.add_edge(\"publish_blog_reddit\", END)\n",
        "\n",
        "# Compile blog_workflow\n",
        "blog_generator = blog_workflow.compile()\n",
        "\n",
        "# Show blog_workflow\n",
        "display(Image(blog_generator.get_graph().draw_mermaid_png()))"
      ]
    },
    {
      "cell_type": "code",
      "execution_count": null,
      "metadata": {
        "id": "bYlx3oP0EqJf",
        "colab": {
          "base_uri": "https://localhost:8080/"
        },
        "outputId": "7f4683d8-2699-406a-df86-f733759db1a3"
      },
      "outputs": [
        {
          "output_type": "stream",
          "name": "stdout",
          "text": [
            "Please enter the topic on which you want to write a post/blog:What is AI?\n",
            "--GENERATE TITLE--\n",
            "Here are a few options:\n",
            "\n",
            "1. **\"Unlocking the Future: What is Artificial Intelligence (AI) and How Does it Work?\"**\n",
            "2. **\"The AI Revolution: A Beginner's Guide to Understanding Artificial Intelligence\"**\n",
            "3. **\"What is AI? Exploring the Basics and Beyond of Artificial Intelligence Technology\"**\n",
            "4. **\"Artificial Intelligence 101: A Comprehensive Guide to AI and its Applications\"**\n",
            "5. **\"Demystifying AI: A Beginner's Introduction to Artificial Intelligence and its Potential\"**\n",
            "\n",
            "These titles incorporate relevant keywords (e.g. \"Artificial Intelligence\", \"AI\"), and are designed to be informative, attention-grabbing, and optimized for search engines. Choose the one that best fits your blog's tone and style.\n",
            "--GENERATE OUTLINE--\n",
            "Based on the provided options, I recommend choosing option 1: **\"Unlocking the Future: What is Artificial Intelligence (AI) and How Does it Work?\"**. This title effectively captures the essence of introducing readers to the concept of Artificial Intelligence while hinting at the explanatory nature of the content. Here is a detailed blog outline based on this title:\n",
            "\n",
            "---\n",
            "\n",
            "### **Unlocking the Future: What is Artificial Intelligence (AI) and How Does it Work?**\n",
            "\n",
            "#### **Introduction**\n",
            "\n",
            "1. **Brief Overview of AI**: Introduce Artificial Intelligence (AI) as a revolutionary technology that is transforming industries and daily life.\n",
            "2. **Importance of Understanding AI**: Explain why understanding AI is crucial in today's digital age.\n",
            "3. **Blog Objective**: Outline the objective of the blog post, which is to provide a comprehensive introduction to AI, its basics, how it works, and its applications.\n",
            "\n",
            "#### **What is Artificial Intelligence?**\n",
            "\n",
            "1. **Definition of AI**: Provide a clear and concise definition of Artificial Intelligence.\n",
            "2. **History of AI**: Briefly discuss the origins and evolution of AI.\n",
            "3. **Key Concepts in AI**: Introduce key concepts such as machine learning, deep learning, and natural language processing.\n",
            "\n",
            "#### **How Does AI Work?**\n",
            "\n",
            "1. **Basic Principles**: Explain the basic principles behind AI, including data collection, algorithms, and computing power.\n",
            "2. **Machine Learning Explained**: Dive deeper into machine learning, a subset of AI, explaining supervised, unsupervised, and reinforcement learning.\n",
            "3. **Neural Networks**: Introduce the concept of neural networks and their role in deep learning.\n",
            "\n",
            "#### **Applications of Artificial Intelligence**\n",
            "\n",
            "1. **Industry Applications**: Discuss how AI is applied in various industries such as healthcare, finance, automotive, and education.\n",
            "2. **Consumer Applications**: Explore AI in everyday life, including virtual assistants, smart home devices, and personalized recommendations.\n",
            "3. **Future Applications**: Speculate on the potential future applications of AI, including space exploration and sustainable energy.\n",
            "\n",
            "#### **Challenges and Ethics of AI**\n",
            "\n",
            "1. **Challenges Facing AI**: Discuss the challenges faced by AI, including bias, privacy concerns, and job displacement.\n",
            "2. **Ethical Considerations**: Explore the ethical considerations of developing and using AI, emphasizing the need for transparency, accountability, and regulation.\n",
            "3. **Future of Work**: Touch on how AI might change the nature of work and the skills needed for future jobs.\n",
            "\n",
            "#### **Conclusion**\n",
            "\n",
            "1. **Summary of Key Points**: Summarize the main points covered in the blog post.\n",
            "2. **Call to Action**: Encourage readers to learn more about AI, explore its applications, and consider how they can contribute to or benefit from AI advancements.\n",
            "3. **Final Thoughts**: Provide final thoughts on the potential of AI to unlock the future, emphasizing both the opportunities and the need for responsible development and use.\n",
            "\n",
            "---\n",
            "\n",
            "This outline provides a structured approach to introducing readers to the world of Artificial Intelligence, covering its basics, how it works, its applications, challenges, and ethical considerations. It's designed to be informative, engaging, and accessible to a wide audience, making it an excellent introduction to the topic.\n",
            "--EXPAND SECTIONS--\n",
            "\\nBased on the provided options, I recommend choosing option 1: **\"Unlocking the Future: What is Artificial Intelligence (AI) and How Does it Work?\"**. This title effectively captures the essence of introducing readers to the concept of Artificial Intelligence while hinting at the explanatory nature of the content. Here is a detailed blog outline based on this title:\n",
            "\n",
            "---\n",
            "\n",
            "### **Unlocking the Future: What is Artificial Intelligence (AI) and How Does it Work?**\n",
            "\n",
            "#### **Introduction**\n",
            "\n",
            "1. **Brief Overview of AI**: Introduce Artificial Intelligence (AI) as a revolutionary technology that is transforming industries and daily life.\n",
            "2. **Importance of Understanding AI**: Explain why understanding AI is crucial in today's digital age.\n",
            "3. **Blog Objective**: Outline the objective of the blog post, which is to provide a comprehensive introduction to AI, its basics, how it works, and its applications.\n",
            "\n",
            "#### **What is Artificial Intelligence?**\n",
            "\n",
            "1. **Definition of AI**: Provide a clear and concise definition of Artificial Intelligence.\n",
            "2. **History of AI**: Briefly discuss the origins and evolution of AI.\n",
            "3. **Key Concepts in AI**: Introduce key concepts such as machine learning, deep learning, and natural language processing.\n",
            "\n",
            "#### **How Does AI Work?**\n",
            "\n",
            "1. **Basic Principles**: Explain the basic principles behind AI, including data collection, algorithms, and computing power.\n",
            "2. **Machine Learning Explained**: Dive deeper into machine learning, a subset of AI, explaining supervised, unsupervised, and reinforcement learning.\n",
            "3. **Neural Networks**: Introduce the concept of neural networks and their role in deep learning.\n",
            "\n",
            "#### **Applications of Artificial Intelligence**\n",
            "\n",
            "1. **Industry Applications**: Discuss how AI is applied in various industries such as healthcare, finance, automotive, and education.\n",
            "2. **Consumer Applications**: Explore AI in everyday life, including virtual assistants, smart home devices, and personalized recommendations.\n",
            "3. **Future Applications**: Speculate on the potential future applications of AI, including space exploration and sustainable energy.\n",
            "\n",
            "#### **Challenges and Ethics of AI**\n",
            "\n",
            "1. **Challenges Facing AI**: Discuss the challenges faced by AI, including bias, privacy concerns, and job displacement.\n",
            "2. **Ethical Considerations**: Explore the ethical considerations of developing and using AI, emphasizing the need for transparency, accountability, and regulation.\n",
            "3. **Future of Work**: Touch on how AI might change the nature of work and the skills needed for future jobs.\n",
            "\n",
            "#### **Conclusion**\n",
            "\n",
            "1. **Summary of Key Points**: Summarize the main points covered in the blog post.\n",
            "2. **Call to Action**: Encourage readers to learn more about AI, explore its applications, and consider how they can contribute to or benefit from AI advancements.\n",
            "3. **Final Thoughts**: Provide final thoughts on the potential of AI to unlock the future, emphasizing both the opportunities and the need for responsible development and use.\n",
            "\n",
            "---\n",
            "\n",
            "This outline provides a structured approach to introducing readers to the world of Artificial Intelligence, covering its basics, how it works, its applications, challenges, and ethical considerations. It's designed to be informative, engaging, and accessible to a wide audience, making it an excellent introduction to the topic.\\n### **Unlocking the Future: What is Artificial Intelligence (AI) and How Does it Work?**\n",
            "\n",
            "Artificial Intelligence (AI) is transforming industries and daily life. Understanding AI is crucial in today's digital age. This blog provides a comprehensive introduction to AI, covering its basics, how it works, and applications. From machine learning to neural networks, we'll explore AI's principles and applications in healthcare, finance, and more. We'll also discuss challenges, ethics, and the future of work. Join us as we unlock the future of AI and discover its potential to revolutionize our world.\\n\n",
            "--EVALUATION IN PROGRESS--\n",
            "1.0\n",
            "--OPTIMIZATION FOR SEO--\n",
            "Current Evaluation Score: 1.0\n",
            "Based on the provided evaluation score of 1.0, a significant rewrite is needed to improve clarity, depth, and keyword optimization. Here's a rewritten version of the blog post incorporating relevant keywords, better headings, and meta descriptions:\n",
            "\n",
            "**Meta Description:** Discover the basics of Artificial Intelligence (AI) and its applications in various industries. Learn how AI works, its challenges, and the future of work in this comprehensive guide.\n",
            "\n",
            "**Header Tags:**\n",
            "\n",
            "* **H1:** Unlocking the Future: A Comprehensive Introduction to Artificial Intelligence (AI)\n",
            "* **H2:** What is Artificial Intelligence (AI)?\n",
            "* **H2:** How Does AI Work?\n",
            "* **H2:** Applications of Artificial Intelligence\n",
            "* **H2:** Challenges and Ethics of AI\n",
            "* **H2:** The Future of Work and AI\n",
            "\n",
            "**Rewritten Blog Post:**\n",
            "\n",
            "## Unlocking the Future: A Comprehensive Introduction to Artificial Intelligence (AI)\n",
            "\n",
            "Artificial Intelligence (AI) is a revolutionary technology that is transforming industries and daily life. As a key driver of digital transformation, understanding AI is crucial in today's digital age. This blog provides a comprehensive introduction to AI, covering its basics, how it works, and applications in various industries.\n",
            "\n",
            "## What is Artificial Intelligence (AI)?\n",
            "\n",
            "Artificial Intelligence refers to the development of computer systems that can perform tasks that typically require human intelligence, such as learning, problem-solving, and decision-making. The history of AI dates back to the 1950s, and since then, it has evolved significantly, with key concepts like machine learning, deep learning, and natural language processing emerging as crucial components of AI.\n",
            "\n",
            "## How Does AI Work?\n",
            "\n",
            "The basic principles behind AI include data collection, algorithms, and computing power. Machine learning, a subset of AI, enables systems to learn from data and improve their performance over time. There are several types of machine learning, including supervised learning, unsupervised learning, and reinforcement learning. Neural networks, a key component of deep learning, are modeled after the human brain and enable systems to learn complex patterns in data.\n",
            "\n",
            "## Applications of Artificial Intelligence\n",
            "\n",
            "AI has numerous applications in various industries, including:\n",
            "\n",
            "* **Healthcare:** AI is used in medical diagnosis, personalized medicine, and patient care.\n",
            "* **Finance:** AI is used in risk management, portfolio optimization, and fraud detection.\n",
            "* **Automotive:** AI is used in self-driving cars, predictive maintenance, and route optimization.\n",
            "* **Education:** AI is used in personalized learning, adaptive assessment, and intelligent tutoring systems.\n",
            "\n",
            "AI is also used in everyday life, including virtual assistants, smart home devices, and personalized recommendations.\n",
            "\n",
            "## Challenges and Ethics of AI\n",
            "\n",
            "Despite its numerous applications, AI also poses several challenges, including:\n",
            "\n",
            "* **Bias and fairness:** AI systems can perpetuate biases and discriminate against certain groups.\n",
            "* **Privacy:** AI systems can collect and process large amounts of personal data, raising concerns about privacy and security.\n",
            "* **Job displacement:** AI can automate jobs, displacing human workers and exacerbating income inequality.\n",
            "\n",
            "To address these challenges, it's essential to develop and use AI in a responsible and ethical manner, with transparency, accountability, and regulation.\n",
            "\n",
            "## The Future of Work and AI\n",
            "\n",
            "AI is likely to change the nature of work, with some jobs becoming automated and new jobs emerging. To prepare for this future, it's essential to develop skills that are complementary to AI, such as critical thinking, creativity, and emotional intelligence.\n",
            "\n",
            "In conclusion, AI has the potential to revolutionize our world, but it's essential to develop and use it in a responsible and ethical manner. By understanding the basics of AI, its applications, and challenges, we can unlock the future of AI and create a better world for all.\n",
            "\n",
            "**Keyword Optimization:**\n",
            "\n",
            "* Artificial Intelligence (AI)\n",
            "* Machine Learning\n",
            "* Deep Learning\n",
            "* Natural Language Processing\n",
            "* Neural Networks\n",
            "* Digital Transformation\n",
            "* Industry Applications (Healthcare, Finance, Automotive, Education)\n",
            "* Challenges and Ethics of AI\n",
            "* Future of Work and AI\n",
            "\n",
            "**Readability Enhancements:**\n",
            "\n",
            "* Short paragraphs and concise sentences\n",
            "* Clear headings and subheadings\n",
            "* Bullet points and numbered lists\n",
            "* Emphasis on key concepts and takeaways\n",
            "\n",
            "**Structure Enhancements:**\n",
            "\n",
            "* Introduction to AI and its importance\n",
            "* Explanation of AI basics and how it works\n",
            "* Discussion of AI applications in various industries\n",
            "* Examination of challenges and ethics of AI\n",
            "* Conclusion and future outlook\n",
            "\n",
            "This rewritten version incorporates relevant keywords, improves readability, and enhances the structure of the blog post, making it more comprehensive and informative for readers.\n",
            "--EVALUATION IN PROGRESS--\n",
            "8.5\n",
            "--GENERATING FINAL CONTENT--\n",
            "The provided blog post has been rewritten to improve clarity, depth, and keyword optimization. Here's a review of the rewritten post with suggestions for further improvement:\n",
            "\n",
            "**Strengths:**\n",
            "\n",
            "1. Clear structure: The post is well-organized, with a logical flow of ideas and clear headings.\n",
            "2. Improved readability: The use of short paragraphs, concise sentences, bullet points, and numbered lists enhances the post's readability.\n",
            "3. Keyword optimization: The post incorporates relevant keywords, which can improve its search engine ranking.\n",
            "4. Comprehensive coverage: The post covers the basics of AI, its applications, challenges, and future outlook, making it a comprehensive guide for readers.\n",
            "\n",
            "**Suggestions for further improvement:**\n",
            "\n",
            "1. **More engaging introduction**: The current introduction is straightforward, but it could be more engaging. Consider adding a thought-provoking question, a surprising statistic, or a personal anecdote to draw the reader in.\n",
            "2. **Use of examples and anecdotes**: While the post provides a good overview of AI concepts, it could benefit from more concrete examples and anecdotes to illustrate these concepts. This would help readers understand the practical applications and implications of AI.\n",
            "3. **Break up long paragraphs**: Some paragraphs, such as the one in the \"How Does AI Work?\" section, are still a bit long. Consider breaking them up into shorter paragraphs to improve readability.\n",
            "4. **Use of visuals**: Incorporating images, diagrams, or infographics can help break up the text and illustrate complex concepts, making the post more engaging and easier to understand.\n",
            "5. **More specific and detailed information**: While the post provides a good overview of AI applications in various industries, it could benefit from more specific and detailed information. For example, the \"Healthcare\" section could discuss specific AI-powered medical tools or treatments.\n",
            "6. **Conclusion and call-to-action**: The conclusion is a bit abrupt. Consider adding a summary of the main points and a call-to-action, such as encouraging readers to explore AI further or providing resources for those who want to learn more.\n",
            "7. **Minor grammar and punctuation corrections**: There are a few minor errors in grammar and punctuation throughout the post. Make sure to proofread the text carefully to catch these errors.\n",
            "\n",
            "**Specific line-by-line suggestions:**\n",
            "\n",
            "1. In the introduction, consider changing \"As a key driver of digital transformation\" to \"As a key driver of digital transformation and innovation\" to add more emphasis on the importance of AI.\n",
            "2. In the \"What is Artificial Intelligence (AI)?\" section, consider adding a brief definition of machine learning, deep learning, and natural language processing to help readers understand these key concepts.\n",
            "3. In the \"How Does AI Work?\" section, consider adding a simple diagram or illustration to explain the basic principles behind AI.\n",
            "4. In the \"Applications of Artificial Intelligence\" section, consider using more specific examples, such as \"AI-powered chatbots in customer service\" instead of \"personalized recommendations.\"\n",
            "5. In the \"Challenges and Ethics of AI\" section, consider discussing more specific challenges, such as the potential for AI to exacerbate existing biases in hiring practices or the need for transparent AI decision-making processes.\n",
            "\n",
            "Overall, the rewritten post is a significant improvement over the original, and with these suggestions, it can become an even more engaging, informative, and comprehensive guide to AI.\n",
            "--PUBLISHING TO LINKEDIN--\n",
            "{'status': 'success', 'errors': [], 'postIds': [{'status': 'success', 'id': 'urn:li:share:7301872384611864576', 'postUrl': 'https://www.linkedin.com/feed/update/urn:li:share:7301872384611864576', 'owner': 'urn:li:person:dZnvwIlTkt', 'linkPreviewFailed': True, 'platform': 'linkedin'}], 'id': 'ealOXcanJOZLrFpA8zAQ', 'refId': '275f4b286379b20501760f98ff351fa489e6806d', 'post': 'data.finalize_blog', 'validate': True}\n"
          ]
        },
        {
          "output_type": "execute_result",
          "data": {
            "text/plain": [
              "{'topic': 'What is AI?',\n",
              " 'title': 'Here are a few options:\\n\\n1. **\"Unlocking the Future: What is Artificial Intelligence (AI) and How Does it Work?\"**\\n2. **\"The AI Revolution: A Beginner\\'s Guide to Understanding Artificial Intelligence\"**\\n3. **\"What is AI? Exploring the Basics and Beyond of Artificial Intelligence Technology\"**\\n4. **\"Artificial Intelligence 101: A Comprehensive Guide to AI and its Applications\"**\\n5. **\"Demystifying AI: A Beginner\\'s Introduction to Artificial Intelligence and its Potential\"**\\n\\nThese titles incorporate relevant keywords (e.g. \"Artificial Intelligence\", \"AI\"), and are designed to be informative, attention-grabbing, and optimized for search engines. Choose the one that best fits your blog\\'s tone and style.',\n",
              " 'outline': 'Based on the provided options, I recommend choosing option 1: **\"Unlocking the Future: What is Artificial Intelligence (AI) and How Does it Work?\"**. This title effectively captures the essence of introducing readers to the concept of Artificial Intelligence while hinting at the explanatory nature of the content. Here is a detailed blog outline based on this title:\\n\\n---\\n\\n### **Unlocking the Future: What is Artificial Intelligence (AI) and How Does it Work?**\\n\\n#### **Introduction**\\n\\n1. **Brief Overview of AI**: Introduce Artificial Intelligence (AI) as a revolutionary technology that is transforming industries and daily life.\\n2. **Importance of Understanding AI**: Explain why understanding AI is crucial in today\\'s digital age.\\n3. **Blog Objective**: Outline the objective of the blog post, which is to provide a comprehensive introduction to AI, its basics, how it works, and its applications.\\n\\n#### **What is Artificial Intelligence?**\\n\\n1. **Definition of AI**: Provide a clear and concise definition of Artificial Intelligence.\\n2. **History of AI**: Briefly discuss the origins and evolution of AI.\\n3. **Key Concepts in AI**: Introduce key concepts such as machine learning, deep learning, and natural language processing.\\n\\n#### **How Does AI Work?**\\n\\n1. **Basic Principles**: Explain the basic principles behind AI, including data collection, algorithms, and computing power.\\n2. **Machine Learning Explained**: Dive deeper into machine learning, a subset of AI, explaining supervised, unsupervised, and reinforcement learning.\\n3. **Neural Networks**: Introduce the concept of neural networks and their role in deep learning.\\n\\n#### **Applications of Artificial Intelligence**\\n\\n1. **Industry Applications**: Discuss how AI is applied in various industries such as healthcare, finance, automotive, and education.\\n2. **Consumer Applications**: Explore AI in everyday life, including virtual assistants, smart home devices, and personalized recommendations.\\n3. **Future Applications**: Speculate on the potential future applications of AI, including space exploration and sustainable energy.\\n\\n#### **Challenges and Ethics of AI**\\n\\n1. **Challenges Facing AI**: Discuss the challenges faced by AI, including bias, privacy concerns, and job displacement.\\n2. **Ethical Considerations**: Explore the ethical considerations of developing and using AI, emphasizing the need for transparency, accountability, and regulation.\\n3. **Future of Work**: Touch on how AI might change the nature of work and the skills needed for future jobs.\\n\\n#### **Conclusion**\\n\\n1. **Summary of Key Points**: Summarize the main points covered in the blog post.\\n2. **Call to Action**: Encourage readers to learn more about AI, explore its applications, and consider how they can contribute to or benefit from AI advancements.\\n3. **Final Thoughts**: Provide final thoughts on the potential of AI to unlock the future, emphasizing both the opportunities and the need for responsible development and use.\\n\\n---\\n\\nThis outline provides a structured approach to introducing readers to the world of Artificial Intelligence, covering its basics, how it works, its applications, challenges, and ethical considerations. It\\'s designed to be informative, engaging, and accessible to a wide audience, making it an excellent introduction to the topic.',\n",
              " 'draft': '\\\\nBased on the provided options, I recommend choosing option 1: **\"Unlocking the Future: What is Artificial Intelligence (AI) and How Does it Work?\"**. This title effectively captures the essence of introducing readers to the concept of Artificial Intelligence while hinting at the explanatory nature of the content. Here is a detailed blog outline based on this title:\\n\\n---\\n\\n### **Unlocking the Future: What is Artificial Intelligence (AI) and How Does it Work?**\\n\\n#### **Introduction**\\n\\n1. **Brief Overview of AI**: Introduce Artificial Intelligence (AI) as a revolutionary technology that is transforming industries and daily life.\\n2. **Importance of Understanding AI**: Explain why understanding AI is crucial in today\\'s digital age.\\n3. **Blog Objective**: Outline the objective of the blog post, which is to provide a comprehensive introduction to AI, its basics, how it works, and its applications.\\n\\n#### **What is Artificial Intelligence?**\\n\\n1. **Definition of AI**: Provide a clear and concise definition of Artificial Intelligence.\\n2. **History of AI**: Briefly discuss the origins and evolution of AI.\\n3. **Key Concepts in AI**: Introduce key concepts such as machine learning, deep learning, and natural language processing.\\n\\n#### **How Does AI Work?**\\n\\n1. **Basic Principles**: Explain the basic principles behind AI, including data collection, algorithms, and computing power.\\n2. **Machine Learning Explained**: Dive deeper into machine learning, a subset of AI, explaining supervised, unsupervised, and reinforcement learning.\\n3. **Neural Networks**: Introduce the concept of neural networks and their role in deep learning.\\n\\n#### **Applications of Artificial Intelligence**\\n\\n1. **Industry Applications**: Discuss how AI is applied in various industries such as healthcare, finance, automotive, and education.\\n2. **Consumer Applications**: Explore AI in everyday life, including virtual assistants, smart home devices, and personalized recommendations.\\n3. **Future Applications**: Speculate on the potential future applications of AI, including space exploration and sustainable energy.\\n\\n#### **Challenges and Ethics of AI**\\n\\n1. **Challenges Facing AI**: Discuss the challenges faced by AI, including bias, privacy concerns, and job displacement.\\n2. **Ethical Considerations**: Explore the ethical considerations of developing and using AI, emphasizing the need for transparency, accountability, and regulation.\\n3. **Future of Work**: Touch on how AI might change the nature of work and the skills needed for future jobs.\\n\\n#### **Conclusion**\\n\\n1. **Summary of Key Points**: Summarize the main points covered in the blog post.\\n2. **Call to Action**: Encourage readers to learn more about AI, explore its applications, and consider how they can contribute to or benefit from AI advancements.\\n3. **Final Thoughts**: Provide final thoughts on the potential of AI to unlock the future, emphasizing both the opportunities and the need for responsible development and use.\\n\\n---\\n\\nThis outline provides a structured approach to introducing readers to the world of Artificial Intelligence, covering its basics, how it works, its applications, challenges, and ethical considerations. It\\'s designed to be informative, engaging, and accessible to a wide audience, making it an excellent introduction to the topic.\\\\n### **Unlocking the Future: What is Artificial Intelligence (AI) and How Does it Work?**\\n\\nArtificial Intelligence (AI) is transforming industries and daily life. Understanding AI is crucial in today\\'s digital age. This blog provides a comprehensive introduction to AI, covering its basics, how it works, and applications. From machine learning to neural networks, we\\'ll explore AI\\'s principles and applications in healthcare, finance, and more. We\\'ll also discuss challenges, ethics, and the future of work. Join us as we unlock the future of AI and discover its potential to revolutionize our world.\\\\n',\n",
              " 'seo_optimized_draft': \"Based on the provided evaluation score of 1.0, a significant rewrite is needed to improve clarity, depth, and keyword optimization. Here's a rewritten version of the blog post incorporating relevant keywords, better headings, and meta descriptions:\\n\\n**Meta Description:** Discover the basics of Artificial Intelligence (AI) and its applications in various industries. Learn how AI works, its challenges, and the future of work in this comprehensive guide.\\n\\n**Header Tags:**\\n\\n* **H1:** Unlocking the Future: A Comprehensive Introduction to Artificial Intelligence (AI)\\n* **H2:** What is Artificial Intelligence (AI)?\\n* **H2:** How Does AI Work?\\n* **H2:** Applications of Artificial Intelligence\\n* **H2:** Challenges and Ethics of AI\\n* **H2:** The Future of Work and AI\\n\\n**Rewritten Blog Post:**\\n\\n## Unlocking the Future: A Comprehensive Introduction to Artificial Intelligence (AI)\\n\\nArtificial Intelligence (AI) is a revolutionary technology that is transforming industries and daily life. As a key driver of digital transformation, understanding AI is crucial in today's digital age. This blog provides a comprehensive introduction to AI, covering its basics, how it works, and applications in various industries.\\n\\n## What is Artificial Intelligence (AI)?\\n\\nArtificial Intelligence refers to the development of computer systems that can perform tasks that typically require human intelligence, such as learning, problem-solving, and decision-making. The history of AI dates back to the 1950s, and since then, it has evolved significantly, with key concepts like machine learning, deep learning, and natural language processing emerging as crucial components of AI.\\n\\n## How Does AI Work?\\n\\nThe basic principles behind AI include data collection, algorithms, and computing power. Machine learning, a subset of AI, enables systems to learn from data and improve their performance over time. There are several types of machine learning, including supervised learning, unsupervised learning, and reinforcement learning. Neural networks, a key component of deep learning, are modeled after the human brain and enable systems to learn complex patterns in data.\\n\\n## Applications of Artificial Intelligence\\n\\nAI has numerous applications in various industries, including:\\n\\n* **Healthcare:** AI is used in medical diagnosis, personalized medicine, and patient care.\\n* **Finance:** AI is used in risk management, portfolio optimization, and fraud detection.\\n* **Automotive:** AI is used in self-driving cars, predictive maintenance, and route optimization.\\n* **Education:** AI is used in personalized learning, adaptive assessment, and intelligent tutoring systems.\\n\\nAI is also used in everyday life, including virtual assistants, smart home devices, and personalized recommendations.\\n\\n## Challenges and Ethics of AI\\n\\nDespite its numerous applications, AI also poses several challenges, including:\\n\\n* **Bias and fairness:** AI systems can perpetuate biases and discriminate against certain groups.\\n* **Privacy:** AI systems can collect and process large amounts of personal data, raising concerns about privacy and security.\\n* **Job displacement:** AI can automate jobs, displacing human workers and exacerbating income inequality.\\n\\nTo address these challenges, it's essential to develop and use AI in a responsible and ethical manner, with transparency, accountability, and regulation.\\n\\n## The Future of Work and AI\\n\\nAI is likely to change the nature of work, with some jobs becoming automated and new jobs emerging. To prepare for this future, it's essential to develop skills that are complementary to AI, such as critical thinking, creativity, and emotional intelligence.\\n\\nIn conclusion, AI has the potential to revolutionize our world, but it's essential to develop and use it in a responsible and ethical manner. By understanding the basics of AI, its applications, and challenges, we can unlock the future of AI and create a better world for all.\\n\\n**Keyword Optimization:**\\n\\n* Artificial Intelligence (AI)\\n* Machine Learning\\n* Deep Learning\\n* Natural Language Processing\\n* Neural Networks\\n* Digital Transformation\\n* Industry Applications (Healthcare, Finance, Automotive, Education)\\n* Challenges and Ethics of AI\\n* Future of Work and AI\\n\\n**Readability Enhancements:**\\n\\n* Short paragraphs and concise sentences\\n* Clear headings and subheadings\\n* Bullet points and numbered lists\\n* Emphasis on key concepts and takeaways\\n\\n**Structure Enhancements:**\\n\\n* Introduction to AI and its importance\\n* Explanation of AI basics and how it works\\n* Discussion of AI applications in various industries\\n* Examination of challenges and ethics of AI\\n* Conclusion and future outlook\\n\\nThis rewritten version incorporates relevant keywords, improves readability, and enhances the structure of the blog post, making it more comprehensive and informative for readers.\",\n",
              " 'finalize_blog': 'The provided blog post has been rewritten to improve clarity, depth, and keyword optimization. Here\\'s a review of the rewritten post with suggestions for further improvement:\\n\\n**Strengths:**\\n\\n1. Clear structure: The post is well-organized, with a logical flow of ideas and clear headings.\\n2. Improved readability: The use of short paragraphs, concise sentences, bullet points, and numbered lists enhances the post\\'s readability.\\n3. Keyword optimization: The post incorporates relevant keywords, which can improve its search engine ranking.\\n4. Comprehensive coverage: The post covers the basics of AI, its applications, challenges, and future outlook, making it a comprehensive guide for readers.\\n\\n**Suggestions for further improvement:**\\n\\n1. **More engaging introduction**: The current introduction is straightforward, but it could be more engaging. Consider adding a thought-provoking question, a surprising statistic, or a personal anecdote to draw the reader in.\\n2. **Use of examples and anecdotes**: While the post provides a good overview of AI concepts, it could benefit from more concrete examples and anecdotes to illustrate these concepts. This would help readers understand the practical applications and implications of AI.\\n3. **Break up long paragraphs**: Some paragraphs, such as the one in the \"How Does AI Work?\" section, are still a bit long. Consider breaking them up into shorter paragraphs to improve readability.\\n4. **Use of visuals**: Incorporating images, diagrams, or infographics can help break up the text and illustrate complex concepts, making the post more engaging and easier to understand.\\n5. **More specific and detailed information**: While the post provides a good overview of AI applications in various industries, it could benefit from more specific and detailed information. For example, the \"Healthcare\" section could discuss specific AI-powered medical tools or treatments.\\n6. **Conclusion and call-to-action**: The conclusion is a bit abrupt. Consider adding a summary of the main points and a call-to-action, such as encouraging readers to explore AI further or providing resources for those who want to learn more.\\n7. **Minor grammar and punctuation corrections**: There are a few minor errors in grammar and punctuation throughout the post. Make sure to proofread the text carefully to catch these errors.\\n\\n**Specific line-by-line suggestions:**\\n\\n1. In the introduction, consider changing \"As a key driver of digital transformation\" to \"As a key driver of digital transformation and innovation\" to add more emphasis on the importance of AI.\\n2. In the \"What is Artificial Intelligence (AI)?\" section, consider adding a brief definition of machine learning, deep learning, and natural language processing to help readers understand these key concepts.\\n3. In the \"How Does AI Work?\" section, consider adding a simple diagram or illustration to explain the basic principles behind AI.\\n4. In the \"Applications of Artificial Intelligence\" section, consider using more specific examples, such as \"AI-powered chatbots in customer service\" instead of \"personalized recommendations.\"\\n5. In the \"Challenges and Ethics of AI\" section, consider discussing more specific challenges, such as the potential for AI to exacerbate existing biases in hiring practices or the need for transparent AI decision-making processes.\\n\\nOverall, the rewritten post is a significant improvement over the original, and with these suggestions, it can become an even more engaging, informative, and comprehensive guide to AI.',\n",
              " 'evaluation_score': 8.5}"
            ]
          },
          "metadata": {},
          "execution_count": 84
        }
      ],
      "source": [
        "topic = input(\"Please enter the topic on which you want to write a post/blog:\")\n",
        "blog_generator.invoke(BlogData(topic=topic))"
      ]
    }
  ],
  "metadata": {
    "accelerator": "GPU",
    "colab": {
      "gpuType": "T4",
      "provenance": [],
      "mount_file_id": "1bQ6e2l1_ikUJNS11PGhZeZTi_d5RQ5wF",
      "authorship_tag": "ABX9TyO4AeQwC6nNG49yO+Iz/ytl",
      "include_colab_link": true
    },
    "kernelspec": {
      "display_name": "Python 3",
      "name": "python3"
    },
    "language_info": {
      "name": "python"
    }
  },
  "nbformat": 4,
  "nbformat_minor": 0
}